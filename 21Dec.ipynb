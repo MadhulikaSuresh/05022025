{
  "nbformat": 4,
  "nbformat_minor": 0,
  "metadata": {
    "colab": {
      "provenance": [],
      "authorship_tag": "ABX9TyOo4mMLC8ju9SogFkf507T0",
      "include_colab_link": true
    },
    "kernelspec": {
      "name": "python3",
      "display_name": "Python 3"
    },
    "language_info": {
      "name": "python"
    }
  },
  "cells": [
    {
      "cell_type": "markdown",
      "metadata": {
        "id": "view-in-github",
        "colab_type": "text"
      },
      "source": [
        "<a href=\"https://colab.research.google.com/github/MadhulikaSuresh/05022025/blob/main/21Dec.ipynb\" target=\"_parent\"><img src=\"https://colab.research.google.com/assets/colab-badge.svg\" alt=\"Open In Colab\"/></a>"
      ]
    },
    {
      "cell_type": "code",
      "execution_count": null,
      "metadata": {
        "colab": {
          "base_uri": "https://localhost:8080/"
        },
        "id": "R2CABxo9BnbJ",
        "outputId": "7269e5f9-752a-486d-8631-2bcbc54c9b30"
      },
      "outputs": [
        {
          "output_type": "stream",
          "name": "stdout",
          "text": [
            "['apple', 'cherry']\n"
          ]
        }
      ],
      "source": [
        "#Remove\n",
        "thislist = [\"apple\", \"banana\", \"cherry\"]\n",
        "thislist.pop(1)\n",
        "print(thislist)"
      ]
    },
    {
      "cell_type": "code",
      "source": [
        "#Remove \"banana\":\n",
        "thislist = [\"apple\", \"banana\", \"cherry\",\"banana\"]\n",
        "thislist.remove(\"banana\")\n",
        "print(thislist)"
      ],
      "metadata": {
        "colab": {
          "base_uri": "https://localhost:8080/"
        },
        "id": "AZONgX2-EBZg",
        "outputId": "db9b3f92-e84e-43e8-dc8f-56eb6f1b57f8"
      },
      "execution_count": null,
      "outputs": [
        {
          "output_type": "stream",
          "name": "stdout",
          "text": [
            "['apple', 'cherry', 'banana']\n"
          ]
        }
      ]
    },
    {
      "cell_type": "code",
      "source": [
        "#Sorting\n",
        "\n",
        "thislist = [9,10,11,89,0,2,3,4]\n",
        "\n",
        "thislist.sort()\n",
        "print(thislist)"
      ],
      "metadata": {
        "colab": {
          "base_uri": "https://localhost:8080/"
        },
        "id": "izpluxZvEVEP",
        "outputId": "aa720684-9866-481f-edd6-968f9c78950a"
      },
      "execution_count": null,
      "outputs": [
        {
          "output_type": "stream",
          "name": "stdout",
          "text": [
            "[0, 2, 3, 4, 9, 10, 11, 89]\n"
          ]
        }
      ]
    },
    {
      "cell_type": "code",
      "source": [
        "#Sorting\n",
        "thislist = [\"orange\", \"mango\", \"kiwi\", \"pineapple\", \"banana\"]\n",
        "thislist.sort()\n",
        "print(thislist)"
      ],
      "metadata": {
        "colab": {
          "base_uri": "https://localhost:8080/"
        },
        "id": "J9BFe5jUE_4Q",
        "outputId": "4a89e4f3-de61-42b0-8e7a-046e6440b26a"
      },
      "execution_count": null,
      "outputs": [
        {
          "output_type": "stream",
          "name": "stdout",
          "text": [
            "['banana', 'kiwi', 'mango', 'orange', 'pineapple']\n"
          ]
        }
      ]
    },
    {
      "cell_type": "code",
      "source": [
        "#Dcending Sort\n",
        "thislist = [9,10,11,89,0,2,3,4]\n",
        "thislist.sort(reverse = True)\n",
        "print(thislist)"
      ],
      "metadata": {
        "colab": {
          "base_uri": "https://localhost:8080/"
        },
        "id": "Vmjwg6TKFDOA",
        "outputId": "5cd3315e-1697-4433-bd12-693f45d5cd3a"
      },
      "execution_count": null,
      "outputs": [
        {
          "output_type": "stream",
          "name": "stdout",
          "text": [
            "[89, 11, 10, 9, 4, 3, 2, 0]\n"
          ]
        }
      ]
    },
    {
      "cell_type": "code",
      "source": [
        "list1 = [4, 5, 6]\n",
        "list2 = [1, 2, 3]\n",
        "\n",
        "list3 = list1 + list2\n",
        "print(list3)"
      ],
      "metadata": {
        "colab": {
          "base_uri": "https://localhost:8080/"
        },
        "id": "A0K72YetGiIx",
        "outputId": "a77c5b44-603c-4c88-c8e6-b6b6da1b8b21"
      },
      "execution_count": null,
      "outputs": [
        {
          "output_type": "stream",
          "name": "stdout",
          "text": [
            "[4, 5, 6, 1, 2, 3]\n"
          ]
        }
      ]
    },
    {
      "cell_type": "code",
      "source": [
        "list1 = [\"a\", \"b\", \"c\"]\n",
        "list2 = [1, 2, 3]\n",
        "\n",
        "list3 = list1 + list2\n",
        "print(list3)"
      ],
      "metadata": {
        "colab": {
          "base_uri": "https://localhost:8080/"
        },
        "id": "iDmrJQUpGxeo",
        "outputId": "f7f6fe47-0826-4b53-c213-d2b75464bf1f"
      },
      "execution_count": null,
      "outputs": [
        {
          "output_type": "stream",
          "name": "stdout",
          "text": [
            "['a', 'b', 'c', 1, 2, 3]\n"
          ]
        }
      ]
    },
    {
      "cell_type": "code",
      "source": [
        "Company = [\"Kolte-Patil Develope\", \"Apcotex Industries L\",\"Genus Power Infrastr\",\"Rallis India\",\"MCX\",\"Mahindra CIE Auto\"]\n",
        "previous_close = [262.50, 432.20, 84.75, 241.50, 1509.35, 356.70]\n",
        "Current_price =[307.85, 466.85, 91.10, 258.05, 1604.15, 377.50]\n",
        "print(Company)\n",
        "print (previous_close)\n",
        "print(Current_price)\n",
        "a=len(Company)\n",
        "print(a)\n",
        "List3= [previous_close] + [Current_price]\n",
        "print(List3)\n",
        "print(previous_close)"
      ],
      "metadata": {
        "colab": {
          "base_uri": "https://localhost:8080/"
        },
        "id": "xl_pQr0DG1Me",
        "outputId": "405905ab-4234-4165-dfc0-84d32eadc0b6"
      },
      "execution_count": null,
      "outputs": [
        {
          "output_type": "stream",
          "name": "stdout",
          "text": [
            "['Kolte-Patil Develope', 'Apcotex Industries L', 'Genus Power Infrastr', 'Rallis India', 'MCX', 'Mahindra CIE Auto']\n",
            "[262.5, 432.2, 84.75, 241.5, 1509.35, 356.7]\n",
            "[307.85, 466.85, 91.1, 258.05, 1604.15, 377.5]\n",
            "6\n",
            "[[262.5, 432.2, 84.75, 241.5, 1509.35, 356.7], [307.85, 466.85, 91.1, 258.05, 1604.15, 377.5]]\n",
            "[262.5, 432.2, 84.75, 241.5, 1509.35, 356.7]\n"
          ]
        }
      ]
    },
    {
      "cell_type": "code",
      "source": [
        "previous_close = [262.50, 432.20, 84.75, 241.50, 1509.35, 356.70]\n",
        "a=previous_close.remove(1509.35)\n",
        "print(previous_close)"
      ],
      "metadata": {
        "colab": {
          "base_uri": "https://localhost:8080/"
        },
        "id": "EGY8MV6AnUbd",
        "outputId": "fc767801-ec41-48ea-b9bc-8c8cf18bddc0"
      },
      "execution_count": null,
      "outputs": [
        {
          "output_type": "stream",
          "name": "stdout",
          "text": [
            "[262.5, 432.2, 84.75, 241.5, 356.7]\n"
          ]
        }
      ]
    },
    {
      "cell_type": "code",
      "source": [
        "previous_close = [262.50, 432.20, 84.75, 241.50, 1509.35, 356.70]\n",
        "Current_price =[307.85, 466.85, 91.10, 258.05, 1604.15, 377.50]\n",
        "previous_close.extend(Current_price)\n",
        "\n",
        "print(previous_close)\n",
        "\n",
        "#second method\n",
        "previous_close = [262.50, 432.20, 84.75, 241.50, 1509.35, 356.70]\n",
        "current_price = [307.85, 466.85, 91.10, 258.05, 1604.15, 377.50]\n",
        "\n",
        "combined_list = previous_close + current_price\n",
        "print(combined_list)\n"
      ],
      "metadata": {
        "colab": {
          "base_uri": "https://localhost:8080/"
        },
        "id": "-fitmGC1oz7f",
        "outputId": "f3826b0c-7559-426d-df6a-21030f119733"
      },
      "execution_count": null,
      "outputs": [
        {
          "output_type": "stream",
          "name": "stdout",
          "text": [
            "[262.5, 432.2, 84.75, 241.5, 1509.35, 356.7, 307.85, 466.85, 91.1, 258.05, 1604.15, 377.5]\n",
            "[262.5, 432.2, 84.75, 241.5, 1509.35, 356.7, 307.85, 466.85, 91.1, 258.05, 1604.15, 377.5]\n"
          ]
        }
      ]
    },
    {
      "cell_type": "code",
      "source": [
        "Company = [\"Kolte-Patil Develope\", \"Apcotex Industries L\",\"Genus Power Infrastr\",\"Rallis India\",\"MCX\",\"Mahindra CIE Auto\"]\n",
        "Company.insert(2,\"TCS\")\n",
        "print(Company)"
      ],
      "metadata": {
        "colab": {
          "base_uri": "https://localhost:8080/"
        },
        "id": "iSBEUDN9Jr4S",
        "outputId": "ab07eef5-8bfa-4fce-cf24-6cb880c0286e"
      },
      "execution_count": null,
      "outputs": [
        {
          "output_type": "stream",
          "name": "stdout",
          "text": [
            "['Kolte-Patil Develope', 'Apcotex Industries L', 'TCS', 'Genus Power Infrastr', 'Rallis India', 'MCX', 'Mahindra CIE Auto']\n"
          ]
        }
      ]
    },
    {
      "cell_type": "code",
      "source": [
        "Company = [\"Kolte-Patil Develope\", \"Apcotex Industries L\",\"Genus Power Infrastr\",\"Rallis India\",\"MCX\",\"Mahindra CIE Auto\"]\n",
        "Company.remove(\"MCX\")\n",
        "print(Company)"
      ],
      "metadata": {
        "colab": {
          "base_uri": "https://localhost:8080/"
        },
        "id": "lwK6JYyvKI-P",
        "outputId": "3196b120-4ca7-454f-dbb5-673ff79a12b7"
      },
      "execution_count": null,
      "outputs": [
        {
          "output_type": "stream",
          "name": "stdout",
          "text": [
            "['Kolte-Patil Develope', 'Apcotex Industries L', 'Genus Power Infrastr', 'Rallis India', 'Mahindra CIE Auto']\n"
          ]
        }
      ]
    },
    {
      "cell_type": "code",
      "source": [
        "Squad=[\"Rohit Sharma (C)\", \"Shubman Gill\", \"Ishan Kishan\", \"Virat Kohli\", \"Shreyas Iyer\", \"Suryakumar Yadav\", \"KS Bharat (wk)\", \"Hardik Pandya (vc)\", \"Washington Sundar\", \"Shahbaz Ahmed\", \"Shardul Thakur\", \"Yuzvendra Chahal\", \"Kuldeep Yadav\", \"Mohd. Shami\", \"Mohd. Siraj\", \"Umran Malik\"]\n",
        "\n",
        "print(Squad)\n",
        "ssize=len(Squad)\n",
        "print(ssize)\n",
        "eleven=Squad[:12]\n",
        "print(eleven)\n",
        "cap=Squad[0]\n",
        "print(cap)\n",
        "four=Squad[:4]\n",
        "print(four)\n",
        "five=Squad[4]\n",
        "print(five)\n",
        "last4=Squad[12:]\n",
        "print(last4)\n",
        "Squad.insert(2,\"Dhoni\")\n",
        "print(Squad)"
      ],
      "metadata": {
        "id": "gG_gIT4qKZJn",
        "colab": {
          "base_uri": "https://localhost:8080/"
        },
        "outputId": "6b7e0eaf-a5ec-49e7-d6e4-cbca57e449f0"
      },
      "execution_count": null,
      "outputs": [
        {
          "output_type": "stream",
          "name": "stdout",
          "text": [
            "['Rohit Sharma (C)', 'Shubman Gill', 'Ishan Kishan', 'Virat Kohli', 'Shreyas Iyer', 'Suryakumar Yadav', 'KS Bharat (wk)', 'Hardik Pandya (vc)', 'Washington Sundar', 'Shahbaz Ahmed', 'Shardul Thakur', 'Yuzvendra Chahal', 'Kuldeep Yadav', 'Mohd. Shami', 'Mohd. Siraj', 'Umran Malik']\n",
            "16\n",
            "['Rohit Sharma (C)', 'Shubman Gill', 'Ishan Kishan', 'Virat Kohli', 'Shreyas Iyer', 'Suryakumar Yadav', 'KS Bharat (wk)', 'Hardik Pandya (vc)', 'Washington Sundar', 'Shahbaz Ahmed', 'Shardul Thakur', 'Yuzvendra Chahal']\n",
            "Rohit Sharma (C)\n",
            "['Rohit Sharma (C)', 'Shubman Gill', 'Ishan Kishan', 'Virat Kohli']\n",
            "Shreyas Iyer\n",
            "['Kuldeep Yadav', 'Mohd. Shami', 'Mohd. Siraj', 'Umran Malik']\n",
            "['Rohit Sharma (C)', 'Shubman Gill', 'Dhoni', 'Ishan Kishan', 'Virat Kohli', 'Shreyas Iyer', 'Suryakumar Yadav', 'KS Bharat (wk)', 'Hardik Pandya (vc)', 'Washington Sundar', 'Shahbaz Ahmed', 'Shardul Thakur', 'Yuzvendra Chahal', 'Kuldeep Yadav', 'Mohd. Shami', 'Mohd. Siraj', 'Umran Malik']\n"
          ]
        }
      ]
    },
    {
      "cell_type": "code",
      "source": [
        "Squad=[\"Rohit Sharma (C)\", \"Shubman Gill\", \"Ishan Kishan\", \"Virat Kohli\", \"Shreyas Iyer\", \"Suryakumar Yadav\", \"KS Bharat (wk)\", \"Hardik Pandya (vc)\", \"Washington Sundar\", \"Shahbaz Ahmed\", \"Shardul Thakur\", \"Yuzvendra Chahal\", \"Kuldeep Yadav\", \"Mohd. Shami\", \"Mohd. Siraj\", \"Umran Malik\"]\n",
        "\n",
        "print(Squad)\n",
        "Squad.insert(2,\"Dhoni\")\n",
        "print(Squad)"
      ],
      "metadata": {
        "colab": {
          "base_uri": "https://localhost:8080/"
        },
        "id": "IifUufBFPRsF",
        "outputId": "4ee53127-f46d-452a-9d5e-4ce59bb28759"
      },
      "execution_count": null,
      "outputs": [
        {
          "output_type": "stream",
          "name": "stdout",
          "text": [
            "['Rohit Sharma (C)', 'Shubman Gill', 'Ishan Kishan', 'Virat Kohli', 'Shreyas Iyer', 'Suryakumar Yadav', 'KS Bharat (wk)', 'Hardik Pandya (vc)', 'Washington Sundar', 'Shahbaz Ahmed', 'Shardul Thakur', 'Yuzvendra Chahal', 'Kuldeep Yadav', 'Mohd. Shami', 'Mohd. Siraj', 'Umran Malik']\n",
            "['Rohit Sharma (C)', 'Shubman Gill', 'Dhoni', 'Ishan Kishan', 'Virat Kohli', 'Shreyas Iyer', 'Suryakumar Yadav', 'KS Bharat (wk)', 'Hardik Pandya (vc)', 'Washington Sundar', 'Shahbaz Ahmed', 'Shardul Thakur', 'Yuzvendra Chahal', 'Kuldeep Yadav', 'Mohd. Shami', 'Mohd. Siraj', 'Umran Malik']\n"
          ]
        }
      ]
    },
    {
      "cell_type": "code",
      "source": [],
      "metadata": {
        "id": "ATdOxVYgHbLB"
      },
      "execution_count": null,
      "outputs": []
    }
  ]
}