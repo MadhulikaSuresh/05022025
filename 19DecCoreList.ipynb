{
  "nbformat": 4,
  "nbformat_minor": 0,
  "metadata": {
    "colab": {
      "provenance": [],
      "authorship_tag": "ABX9TyN6MS0aRznoi6sfkhGnCSy6",
      "include_colab_link": true
    },
    "kernelspec": {
      "name": "python3",
      "display_name": "Python 3"
    },
    "language_info": {
      "name": "python"
    }
  },
  "cells": [
    {
      "cell_type": "markdown",
      "metadata": {
        "id": "view-in-github",
        "colab_type": "text"
      },
      "source": [
        "<a href=\"https://colab.research.google.com/github/MadhulikaSuresh/05022025/blob/main/19DecCoreList.ipynb\" target=\"_parent\"><img src=\"https://colab.research.google.com/assets/colab-badge.svg\" alt=\"Open In Colab\"/></a>"
      ]
    },
    {
      "cell_type": "code",
      "execution_count": null,
      "metadata": {
        "colab": {
          "base_uri": "https://localhost:8080/"
        },
        "id": "oNXargFMzQ3L",
        "outputId": "a483770b-956b-4aa9-eb44-db32d5ad8454"
      },
      "outputs": [
        {
          "output_type": "stream",
          "name": "stdout",
          "text": [
            "hi\n"
          ]
        }
      ],
      "source": [
        "print(\"hi\")"
      ]
    },
    {
      "cell_type": "code",
      "source": [
        "A=10\n",
        "B=5\n",
        "C= 8\n",
        "c=90\n",
        "print(\"A=\",A)\n",
        "print(\"B=\",B)\n",
        "print(\"C=\",C)\n",
        "print(\"c=\",c)"
      ],
      "metadata": {
        "colab": {
          "base_uri": "https://localhost:8080/"
        },
        "id": "3XuldYW81dP4",
        "outputId": "5caea6a2-0b9d-44ae-991c-6e7b8ac73ffe"
      },
      "execution_count": null,
      "outputs": [
        {
          "output_type": "stream",
          "name": "stdout",
          "text": [
            "A= 10\n",
            "B= 5\n",
            "C= 8\n",
            "c= 90\n"
          ]
        }
      ]
    },
    {
      "cell_type": "code",
      "source": [
        "A=10.5\n",
        "B=5\n",
        "C=-8\n",
        "print(\"A=\",A)\n",
        "print(\"B=\",B)\n",
        "print(\"C=\",C)"
      ],
      "metadata": {
        "colab": {
          "base_uri": "https://localhost:8080/"
        },
        "id": "VW-UAhei2dN5",
        "outputId": "5b20b2c7-045a-4986-9b02-05b2c3644bb1"
      },
      "execution_count": null,
      "outputs": [
        {
          "output_type": "stream",
          "name": "stdout",
          "text": [
            "A= 10.5\n",
            "B= 5\n",
            "C= -8\n"
          ]
        }
      ]
    },
    {
      "cell_type": "code",
      "source": [
        "A=10\n",
        "B=-5\n",
        "C= 2.5\n",
        "E=\"Chennai\"\n",
        "print(\"A=\",A)\n",
        "print(\"B=\",B)\n",
        "print(\"C=\",C)\n",
        "print(\"E=\",E)"
      ],
      "metadata": {
        "colab": {
          "base_uri": "https://localhost:8080/"
        },
        "id": "0LJCpVpg3D9v",
        "outputId": "448efebd-4f43-4df1-e730-9f4dcf64556e"
      },
      "execution_count": null,
      "outputs": [
        {
          "output_type": "stream",
          "name": "stdout",
          "text": [
            "A= 10\n",
            "B= -5\n",
            "C= 2.5\n",
            "E= Chennai\n"
          ]
        }
      ]
    },
    {
      "cell_type": "code",
      "source": [
        "A=10\n",
        "B=5\n",
        "C= 8\n",
        "E=\"Jan2023\"\n",
        "print(A)\n",
        "print(\"\")#space\n",
        "print(B)"
      ],
      "metadata": {
        "colab": {
          "base_uri": "https://localhost:8080/"
        },
        "id": "nJd0tJ_I4QmI",
        "outputId": "7b429fe4-2690-403e-cf1c-a77706d95ec8"
      },
      "execution_count": null,
      "outputs": [
        {
          "output_type": "stream",
          "name": "stdout",
          "text": [
            "10\n",
            "\n",
            "5\n"
          ]
        }
      ]
    },
    {
      "cell_type": "code",
      "source": [
        "A=10\n",
        "B=5\n",
        "C= 8\n",
        "E=\"Jan2023\"\n",
        "print(A)\n",
        "print(\"---\")#space\n",
        "print(B)"
      ],
      "metadata": {
        "colab": {
          "base_uri": "https://localhost:8080/"
        },
        "id": "XtDMnwMz4TvF",
        "outputId": "fa9f5e85-d7ab-4eab-9d4e-9ce81cace6d3"
      },
      "execution_count": null,
      "outputs": [
        {
          "output_type": "stream",
          "name": "stdout",
          "text": [
            "10\n",
            "---\n",
            "5\n"
          ]
        }
      ]
    },
    {
      "cell_type": "code",
      "source": [
        "A=10\n",
        "B=5\n",
        "C= 8\n",
        "E=\"Jan2023\"\n",
        "print(A)\n",
        "print(\"\\nE=\",E)#space"
      ],
      "metadata": {
        "colab": {
          "base_uri": "https://localhost:8080/"
        },
        "id": "ziFVX8Q94Z2d",
        "outputId": "b2ad2333-a223-4f88-ad22-eaa4afa00635"
      },
      "execution_count": null,
      "outputs": [
        {
          "output_type": "stream",
          "name": "stdout",
          "text": [
            "10\n",
            "\n",
            "E= Jan2023\n"
          ]
        }
      ]
    },
    {
      "cell_type": "code",
      "source": [
        "#math\n",
        "a=10\n",
        "b=20\n",
        "c=a-b\n",
        "d=a+b\n",
        "e=a/b\n",
        "f=a*b\n",
        "g=a**b#a power b\n",
        "print(\"a=\",a)\n",
        "print(\"\")#space\n",
        "print(\"b=\",b)\n",
        "print(\"c\",c)\n",
        "print(\"---\")#space\n",
        "print(\"d\",d)\n",
        "print(\"\\ne=\",e)#space\n",
        "print(\"f=\",d)\n",
        "print(\"\")#space\n",
        "print(\"g=\",g)"
      ],
      "metadata": {
        "colab": {
          "base_uri": "https://localhost:8080/"
        },
        "id": "lN7VD04i5Vyv",
        "outputId": "5e6bd9fc-0825-4c46-9498-782c49310bc1"
      },
      "execution_count": null,
      "outputs": [
        {
          "output_type": "stream",
          "name": "stdout",
          "text": [
            "a= 10\n",
            "\n",
            "b= 20\n",
            "c -10\n",
            "---\n",
            "d 30\n",
            "\n",
            "e= 0.5\n",
            "f= 30\n",
            "\n",
            "g= 100000000000000000000\n"
          ]
        }
      ]
    },
    {
      "cell_type": "code",
      "source": [
        "a = int(input(\"Enter a integer = \"));\n",
        "b = float(input(\"Enter a decimal value =\"));\n",
        "c = input(\"Enter a string = \");\n",
        "print(\"a\",a)\n",
        "print(\"b\",b)\n",
        "print(\"c\",c)"
      ],
      "metadata": {
        "colab": {
          "base_uri": "https://localhost:8080/"
        },
        "id": "ZjyMDZa27sSA",
        "outputId": "3cf36b28-9574-4fb5-bc97-83a555acb725"
      },
      "execution_count": null,
      "outputs": [
        {
          "output_type": "stream",
          "name": "stdout",
          "text": [
            "Enter a integer = 10\n",
            "Enter a decimal value =2.5\n",
            "Enter a string = maaa\n",
            "a 10\n",
            "b 2.5\n",
            "c maaa\n"
          ]
        }
      ]
    },
    {
      "cell_type": "code",
      "source": [
        "a=float(input(\"Enter a  value = \"));\n",
        "b=float(input(\"\\nEnter a decimal value = \"));\n",
        "c=float(input(\"\\nEnter a decimal value = \"));\n",
        "x=2*a\n",
        "y=3*b\n",
        "z=4*c\n",
        "a1=x+y+z\n",
        "print(\"\\n 2 * first external input = \",x)\n",
        "print(\"\\n 3 * second external input = \",y)\n",
        "print(\"\\n 4 * third external input = \",z)\n",
        "print(\"\\na1 value is = \", a1)"
      ],
      "metadata": {
        "colab": {
          "base_uri": "https://localhost:8080/"
        },
        "id": "PAT4Rqxz8tin",
        "outputId": "16dcff6f-f258-4af1-f8d6-77e3e72d788f"
      },
      "execution_count": null,
      "outputs": [
        {
          "output_type": "stream",
          "name": "stdout",
          "text": [
            "Enter a  value = 2.5\n",
            "\n",
            "Enter a decimal value = 2.5\n",
            "\n",
            "Enter a decimal value = 2.5\n",
            "\n",
            " 2 * first external input =  5.0\n",
            "\n",
            " 3 * second external input =  7.5\n",
            "\n",
            " 4 * third external input =  10.0\n",
            "\n",
            "a1 value is =  22.5\n"
          ]
        }
      ]
    },
    {
      "cell_type": "code",
      "source": [
        "#task\n",
        "#formula\n",
        "#y=a+10b-6c\n",
        "#y=a+b-c\n",
        "\n",
        "a=int(input(\"Enter a  value = \"));\n",
        "b=float(input(\"\\nEnter a decimal value = \"));\n",
        "c=float(input(\"\\nEnter a decimal value = \"));\n",
        "x=2*a\n",
        "y1=a+10*b-6*c\n",
        "y2=a+b-c\n",
        "z=4*c\n",
        "print(\"\\n 2 * first external input = \",x)\n",
        "print(\"a=\",a)\n",
        "print(\"\")#space\n",
        "print(\"\\n 3 * second external input = \",y)\n",
        "print(\"b=\",b)\n",
        "print(\"---\")#space\n",
        "print(\"\\n 4 * third external input = \",z)\n",
        "print(\"c=\",c)\n",
        "print(\"\\ny value is = \", y)\n",
        "\n",
        "\n",
        "\n"
      ],
      "metadata": {
        "colab": {
          "base_uri": "https://localhost:8080/"
        },
        "id": "jMVXU49586br",
        "outputId": "71e627da-cd29-4e8f-b248-5ba8edb04948"
      },
      "execution_count": null,
      "outputs": [
        {
          "output_type": "stream",
          "name": "stdout",
          "text": [
            "Enter a  value = 4\n",
            "\n",
            "Enter a decimal value = 2.5\n",
            "\n",
            "Enter a decimal value = 3.5\n",
            "\n",
            " 2 * first external input =  8\n",
            "a= 4\n",
            "\n",
            "\n",
            " 3 * second external input =  7.5\n",
            "b= 2.5\n",
            "---\n",
            "\n",
            " 4 * third external input =  14.0\n",
            "c= 3.5\n",
            "\n",
            "y value is =  7.5\n"
          ]
        }
      ]
    },
    {
      "cell_type": "code",
      "source": [
        "a=20\n",
        "b=20\n",
        "c=a+b\n",
        "g=a>=b\n",
        "print(\"a>=b=\",g)\n",
        "m=a<=b\n",
        "print(\"a<=b=\",m)\n",
        "n=a>b\n",
        "print(\"a>=b=\",n)\n",
        "o=a<b\n",
        "print(\"a<b=\",o)\n",
        "j=a==b\n",
        "j1=a!=b\n",
        "print(\"a==b=\",j)\n",
        "print(\"not equal-\",j1)"
      ],
      "metadata": {
        "colab": {
          "base_uri": "https://localhost:8080/"
        },
        "id": "jJuZtk0YAZOU",
        "outputId": "c37a88e0-3714-46d4-99d5-ad0bb1563821"
      },
      "execution_count": null,
      "outputs": [
        {
          "output_type": "stream",
          "name": "stdout",
          "text": [
            "a>=b= True\n",
            "a<=b= True\n",
            "a>=b= False\n",
            "a<b= False\n",
            "a==b= True\n",
            "not equal- False\n"
          ]
        }
      ]
    },
    {
      "cell_type": "code",
      "source": [
        "A = [\"apple\", \"banana\", \"cherry\"]\n",
        "print(A)\n",
        "\n",
        "#String, int and boolean data types:\n",
        "list1 = [\"apple\", \"banana\", \"cherry\"]\n",
        "list2 = [1, 5, 7, 9, 3]\n",
        "list3 = [True, False, False]\n",
        "list4 = [\"abc\", 34, True, 40, \"male\"]\n"
      ],
      "metadata": {
        "colab": {
          "base_uri": "https://localhost:8080/"
        },
        "id": "vpQParrYB1W9",
        "outputId": "d97d43a1-6841-4ac6-ed95-0121145353c1"
      },
      "execution_count": null,
      "outputs": [
        {
          "output_type": "stream",
          "name": "stdout",
          "text": [
            "['apple', 'banana', 'cherry']\n"
          ]
        }
      ]
    },
    {
      "cell_type": "code",
      "source": [
        "x = [\"apple\", \"banana\", \"cherry\",\"Orange\"]\n",
        "a=len(x)\n",
        "print(a)"
      ],
      "metadata": {
        "colab": {
          "base_uri": "https://localhost:8080/"
        },
        "id": "FoFc1N2HCaVm",
        "outputId": "7462c969-2079-436d-80aa-5d0b04d5e52c"
      },
      "execution_count": null,
      "outputs": [
        {
          "output_type": "stream",
          "name": "stdout",
          "text": [
            "4\n"
          ]
        }
      ]
    },
    {
      "cell_type": "code",
      "source": [
        "#Print the second item of the list:\n",
        "thislist = [\"apple\", \"banana\", \"cherry\"]\n",
        "a=thislist[2]\n",
        "print(a)"
      ],
      "metadata": {
        "colab": {
          "base_uri": "https://localhost:8080/"
        },
        "id": "dEvJgk5_CfrN",
        "outputId": "e59e990d-6142-4f20-9ab3-6e1ec1e8f862"
      },
      "execution_count": null,
      "outputs": [
        {
          "output_type": "stream",
          "name": "stdout",
          "text": [
            "cherry\n"
          ]
        }
      ]
    },
    {
      "cell_type": "code",
      "source": [
        "#Print the second item of the list:\n",
        "thislist = [\"apple\", \"banana\", \"cherry\"]\n",
        "a3=thislist[2]\n",
        "print(a3)"
      ],
      "metadata": {
        "colab": {
          "base_uri": "https://localhost:8080/"
        },
        "id": "GeYOtYzRDsrt",
        "outputId": "39af03d2-c1fd-424f-f0db-868c977d59e1"
      },
      "execution_count": null,
      "outputs": [
        {
          "output_type": "stream",
          "name": "stdout",
          "text": [
            "cherry\n"
          ]
        }
      ]
    },
    {
      "cell_type": "code",
      "source": [
        "#Print the second item of the list:\n",
        "thislist = [\"apple\", \"banana\", \"cherry\"]\n",
        "print(thislist[1])"
      ],
      "metadata": {
        "colab": {
          "base_uri": "https://localhost:8080/"
        },
        "id": "y92jTegWDyBU",
        "outputId": "fb62be84-94dc-4e7d-bcb5-0e552b5b9df3"
      },
      "execution_count": null,
      "outputs": [
        {
          "output_type": "stream",
          "name": "stdout",
          "text": [
            "banana\n"
          ]
        }
      ]
    },
    {
      "cell_type": "code",
      "source": [
        "thislist = [\"apple\", \"banana\", \"cherry\", \"orange\", \"kiwi\", \"melon\", \"mango\"]\n",
        "a=thislist[2:5]\n",
        "print(a)\n",
        "#start from 2 till 5"
      ],
      "metadata": {
        "colab": {
          "base_uri": "https://localhost:8080/"
        },
        "id": "eFuum8RTD1D8",
        "outputId": "a981a7d9-5fca-48b0-a3e0-aa61d155cc78"
      },
      "execution_count": null,
      "outputs": [
        {
          "output_type": "stream",
          "name": "stdout",
          "text": [
            "['cherry', 'orange', 'kiwi']\n"
          ]
        }
      ]
    },
    {
      "cell_type": "code",
      "source": [
        "thislist = [\"apple\", \"banana\", \"cherry\", \"orange\", \"kiwi\", \"melon\", \"mango\"]\n",
        "a=thislist[:4]\n",
        "print(a)\n",
        "#start from 0 till 4"
      ],
      "metadata": {
        "colab": {
          "base_uri": "https://localhost:8080/"
        },
        "id": "icadwtRQD4nz",
        "outputId": "b43c4b13-898b-4014-90dd-9cf829619e7f"
      },
      "execution_count": null,
      "outputs": [
        {
          "output_type": "stream",
          "name": "stdout",
          "text": [
            "['apple', 'banana', 'cherry', 'orange']\n"
          ]
        }
      ]
    },
    {
      "cell_type": "code",
      "source": [
        "thislist = [\"apple\", \"banana\", \"cherry\", \"orange\", \"kiwi\", \"melon\", \"mango\"]\n",
        "x=thislist[2:]\n",
        "print(x)"
      ],
      "metadata": {
        "colab": {
          "base_uri": "https://localhost:8080/"
        },
        "id": "mm_tWpPFD_k8",
        "outputId": "af377628-bcc8-452a-afc3-1b7ab33d2447"
      },
      "execution_count": null,
      "outputs": [
        {
          "output_type": "stream",
          "name": "stdout",
          "text": [
            "['cherry', 'orange', 'kiwi', 'melon', 'mango']\n"
          ]
        }
      ]
    },
    {
      "cell_type": "code",
      "source": [
        "thislist = [\"apple\", \"banana\", \"cherry\", \"orange\", \"kiwi\", \"melon\", \"mango\"]\n",
        "y=thislist[2:4]\n",
        "print(y)"
      ],
      "metadata": {
        "colab": {
          "base_uri": "https://localhost:8080/"
        },
        "id": "oHvASKyVECZM",
        "outputId": "a299f2d5-83a4-4ab7-a7d8-53ecf039fe68"
      },
      "execution_count": null,
      "outputs": [
        {
          "output_type": "stream",
          "name": "stdout",
          "text": [
            "['cherry', 'orange']\n"
          ]
        }
      ]
    },
    {
      "cell_type": "code",
      "source": [
        "thislist = [\"apple\", \"banana\", \"cherry\", \"orange\", \"kiwi\", \"mango\"]\n",
        "thislist[1:3] = [\"kiwi\", \"watermelon\"]\n",
        "print(thislist)"
      ],
      "metadata": {
        "colab": {
          "base_uri": "https://localhost:8080/"
        },
        "id": "xBLAC0BkGOt0",
        "outputId": "a618fc5b-8a8c-4d59-ac5d-e8825e948005"
      },
      "execution_count": null,
      "outputs": [
        {
          "output_type": "stream",
          "name": "stdout",
          "text": [
            "['apple', 'kiwi', 'watermelon', 'orange', 'kiwi', 'mango']\n"
          ]
        }
      ]
    },
    {
      "cell_type": "code",
      "source": [
        "thislist = [\"apple\", \"banana\", \"cherry\"]\n",
        "thislist.insert(2, \"watermelon\")\n",
        "print(thislist)"
      ],
      "metadata": {
        "colab": {
          "base_uri": "https://localhost:8080/"
        },
        "id": "nEdszyvjGipL",
        "outputId": "c83ab74b-ede3-4f67-a5e9-9dfc8392fc60"
      },
      "execution_count": null,
      "outputs": [
        {
          "output_type": "stream",
          "name": "stdout",
          "text": [
            "['apple', 'banana', 'watermelon', 'cherry']\n"
          ]
        }
      ]
    }
  ]
}