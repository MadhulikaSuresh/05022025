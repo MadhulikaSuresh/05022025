{
  "nbformat": 4,
  "nbformat_minor": 0,
  "metadata": {
    "colab": {
      "provenance": [],
      "authorship_tag": "ABX9TyPACp6oCwUXKn5a5507DH+G",
      "include_colab_link": true
    },
    "kernelspec": {
      "name": "python3",
      "display_name": "Python 3"
    },
    "language_info": {
      "name": "python"
    }
  },
  "cells": [
    {
      "cell_type": "markdown",
      "metadata": {
        "id": "view-in-github",
        "colab_type": "text"
      },
      "source": [
        "<a href=\"https://colab.research.google.com/github/MadhulikaSuresh/05022025/blob/main/22Dec.ipynb\" target=\"_parent\"><img src=\"https://colab.research.google.com/assets/colab-badge.svg\" alt=\"Open In Colab\"/></a>"
      ]
    },
    {
      "cell_type": "code",
      "execution_count": null,
      "metadata": {
        "colab": {
          "base_uri": "https://localhost:8080/"
        },
        "id": "-K_eRyyXLwsW",
        "outputId": "f92aa171-f985-45f0-b9a2-1fb5ac07ca5c"
      },
      "outputs": [
        {
          "output_type": "stream",
          "name": "stdout",
          "text": [
            "[[ 2  3  4  5]\n",
            " [ 3  5  6  7]\n",
            " [11 21 40  4]]\n"
          ]
        }
      ],
      "source": [
        "import numpy as np#3x4\n",
        "a = np.array([[1,2,3,4],[2,4,5,6],[10,20,39,3]])\n",
        "c=a+1\n",
        "print(c)"
      ]
    },
    {
      "cell_type": "code",
      "source": [
        "#math\n",
        "import numpy as np#3x4\n",
        "a = np.array([[1,2,3,4],[2,4,5,6],[10,20,39,3]])\n",
        "c=a/3\n",
        "print(c)"
      ],
      "metadata": {
        "colab": {
          "base_uri": "https://localhost:8080/"
        },
        "id": "fI2n5I2YOYZv",
        "outputId": "c9c07262-f6ec-4b85-a999-f38162966c1a"
      },
      "execution_count": null,
      "outputs": [
        {
          "output_type": "stream",
          "name": "stdout",
          "text": [
            "[[ 0.33333333  0.66666667  1.          1.33333333]\n",
            " [ 0.66666667  1.33333333  1.66666667  2.        ]\n",
            " [ 3.33333333  6.66666667 13.          1.        ]]\n"
          ]
        }
      ]
    },
    {
      "cell_type": "code",
      "source": [
        "import numpy as np#3x4\n",
        "a = np.array([[1,2,3,4],[2,4,5,6],[10,20,39,3]])\n",
        "b= np.array([[11,21,31,4],[21,14,5,6],[10,210,319,31]])\n",
        "c=a+1\n",
        "add=a+b+c\n",
        "print(add)"
      ],
      "metadata": {
        "colab": {
          "base_uri": "https://localhost:8080/"
        },
        "id": "0KqkjFrdOhkN",
        "outputId": "686419da-132a-4fe5-96ae-1a797cc97134"
      },
      "execution_count": null,
      "outputs": [
        {
          "output_type": "stream",
          "name": "stdout",
          "text": [
            "[[ 14  26  38  13]\n",
            " [ 26  23  16  19]\n",
            " [ 31 251 398  38]]\n"
          ]
        }
      ]
    },
    {
      "cell_type": "code",
      "source": [
        "import numpy as np#3x4\n",
        "a = np.array([[1,2,3,4],[2,4,5,6],[10,20,39,3]])\n",
        "b= np.array([[11,21,31,4],[21,14,5,6],[10,210,319,31]])\n",
        "c=a+b\n",
        "print(c)\n",
        "a=a>b\n",
        "print(a)\n"
      ],
      "metadata": {
        "colab": {
          "base_uri": "https://localhost:8080/"
        },
        "id": "X5CdAcNSOlX8",
        "outputId": "559eb72c-b151-4459-e9c6-bb39dfc2243a"
      },
      "execution_count": null,
      "outputs": [
        {
          "output_type": "stream",
          "name": "stdout",
          "text": [
            "[[ 12  23  34   8]\n",
            " [ 23  18  10  12]\n",
            " [ 20 230 358  34]]\n",
            "[[False False False False]\n",
            " [False False False False]\n",
            " [False False False False]]\n"
          ]
        }
      ]
    },
    {
      "cell_type": "code",
      "source": [
        "#slice\n",
        "import numpy as np#3x4\n",
        "a = np.array([[1,2,3,4],[2,4,5,6],[10,20,39,3]])\n",
        "\n",
        "c=a[0,0]\n",
        "print(c)"
      ],
      "metadata": {
        "colab": {
          "base_uri": "https://localhost:8080/"
        },
        "id": "GD0kixmfOqfa",
        "outputId": "2b945583-76da-4c66-f7a7-0614b0d0ec49"
      },
      "execution_count": null,
      "outputs": [
        {
          "output_type": "stream",
          "name": "stdout",
          "text": [
            "1\n"
          ]
        }
      ]
    },
    {
      "cell_type": "code",
      "source": [
        "#slice\n",
        "import numpy as np#3x4\n",
        "a = np.array([[1,2,3,4],[2,4,5,6],[10,20,39,3]])\n",
        "\n",
        "c=a[0,0]\n",
        "c1=a[0,1]\n",
        "c2=a[0,2]\n",
        "c3=a[0,3]\n",
        "d1=a[1,0]\n",
        "d2=a[1,1]\n",
        "d3=a[1,2]\n",
        "d4=a[1,3]\n",
        "e1=a[2,0]\n",
        "e2=a[2,1]\n",
        "e3=a[2,2]\n",
        "e4=a[2,3]\n",
        "print(c)\n",
        "print(c1)\n",
        "print(c2)\n",
        "print(d1)\n",
        "print(d2)\n",
        "print(d3)\n",
        "print(d4)\n",
        "print(e1)\n",
        "print(e2)\n",
        "print(e3)\n",
        "print(e4)"
      ],
      "metadata": {
        "colab": {
          "base_uri": "https://localhost:8080/"
        },
        "id": "M5mO579TP9A2",
        "outputId": "00f0b5a9-f765-46ff-f896-0cd4b9a0b1e5"
      },
      "execution_count": null,
      "outputs": [
        {
          "output_type": "stream",
          "name": "stdout",
          "text": [
            "1\n",
            "2\n",
            "3\n",
            "2\n",
            "4\n",
            "5\n",
            "6\n",
            "10\n",
            "20\n",
            "39\n",
            "3\n"
          ]
        }
      ]
    },
    {
      "cell_type": "code",
      "source": [
        "import numpy as np#sort\n",
        "x = np.array([[10,2,3,4],[20,4,5,6],[10,20,39,3]])\n",
        "print(\"Original mat:\")\n",
        "print(x)\n",
        "print(\"sort:\")\n",
        "y = np.sort(x)\n",
        "print(y)"
      ],
      "metadata": {
        "colab": {
          "base_uri": "https://localhost:8080/"
        },
        "id": "Csegv3_zSE5D",
        "outputId": "6dd0734e-389b-467a-fe8d-67126de34e7c"
      },
      "execution_count": null,
      "outputs": [
        {
          "output_type": "stream",
          "name": "stdout",
          "text": [
            "Original mat:\n",
            "[[10  2  3  4]\n",
            " [20  4  5  6]\n",
            " [10 20 39  3]]\n",
            "sort:\n",
            "[[ 2  3  4 10]\n",
            " [ 4  5  6 20]\n",
            " [ 3 10 20 39]]\n"
          ]
        }
      ]
    },
    {
      "cell_type": "code",
      "source": [
        "import numpy as np#sort\n",
        "x = np.array([[10,2,3,4],[20,4,5,6],[10,20,39,3]])\n",
        "print(\"Original mat:\")\n",
        "print(x)"
      ],
      "metadata": {
        "colab": {
          "base_uri": "https://localhost:8080/"
        },
        "id": "_7Un3sWkSGS4",
        "outputId": "94266304-9a4d-4cc1-cabe-9c17019d1f61"
      },
      "execution_count": null,
      "outputs": [
        {
          "output_type": "stream",
          "name": "stdout",
          "text": [
            "Original mat:\n",
            "[[10  2  3  4]\n",
            " [20  4  5  6]\n",
            " [10 20 39  3]]\n"
          ]
        }
      ]
    },
    {
      "cell_type": "code",
      "source": [
        "y = np.min(x)\n",
        "z=np.max(x)\n",
        "a=np.mean(x)\n",
        "print(\"Min\",y)\n",
        "print(\"Average\",a)\n",
        "print(\"max\",z)"
      ],
      "metadata": {
        "colab": {
          "base_uri": "https://localhost:8080/"
        },
        "id": "BHC-NNpwSMFh",
        "outputId": "662f7fb2-e19d-4aa1-8bf3-284da0318e4a"
      },
      "execution_count": null,
      "outputs": [
        {
          "output_type": "stream",
          "name": "stdout",
          "text": [
            "Min 2\n",
            "Average 10.5\n",
            "max 39\n"
          ]
        }
      ]
    },
    {
      "cell_type": "code",
      "source": [
        "a = 3000\n",
        "b = 400\n",
        "if b > a:\n",
        "  print(\"b is greater than a\")"
      ],
      "metadata": {
        "id": "JkB_t65KSk6j"
      },
      "execution_count": null,
      "outputs": []
    },
    {
      "cell_type": "code",
      "source": [
        "#error sim\n",
        "a = 33\n",
        "b = 200\n",
        "if b > a:\n",
        "print(\"b is greater than a\") # you will get an error\n"
      ],
      "metadata": {
        "colab": {
          "base_uri": "https://localhost:8080/",
          "height": 106
        },
        "id": "gKuo3rpKSmBh",
        "outputId": "4c39041f-0824-4563-8aca-61abee9efb60"
      },
      "execution_count": null,
      "outputs": [
        {
          "output_type": "error",
          "ename": "IndentationError",
          "evalue": "expected an indented block after 'if' statement on line 4 (<ipython-input-13-8cc2579db0bc>, line 5)",
          "traceback": [
            "\u001b[0;36m  File \u001b[0;32m\"<ipython-input-13-8cc2579db0bc>\"\u001b[0;36m, line \u001b[0;32m5\u001b[0m\n\u001b[0;31m    print(\"b is greater than a\") # you will get an error\u001b[0m\n\u001b[0m    ^\u001b[0m\n\u001b[0;31mIndentationError\u001b[0m\u001b[0;31m:\u001b[0m expected an indented block after 'if' statement on line 4\n"
          ]
        }
      ]
    },
    {
      "cell_type": "code",
      "source": [
        "#ELSE IF\n",
        "a = 433\n",
        "b = 433\n",
        "if b > a:\n",
        "  print(\"b is greater than a\")\n",
        "elif a == b:\n",
        "  print(\"a and b are equal\")"
      ],
      "metadata": {
        "colab": {
          "base_uri": "https://localhost:8080/"
        },
        "id": "0ywzd-SWTMtB",
        "outputId": "7965eecd-80ec-4047-f753-5401c563f5fa"
      },
      "execution_count": null,
      "outputs": [
        {
          "output_type": "stream",
          "name": "stdout",
          "text": [
            "a and b are equal\n"
          ]
        }
      ]
    },
    {
      "cell_type": "code",
      "source": [
        "a = 200\n",
        "b = 33\n",
        "if b > a:\n",
        "  print(\"b is greater than a\")\n",
        "elif a == b:\n",
        "  print(\"a and b are equal\")\n",
        "elif a > b:\n",
        "  print(\"a geater\")\n",
        "else:\n",
        "  print(\"a is greater than b\")"
      ],
      "metadata": {
        "colab": {
          "base_uri": "https://localhost:8080/"
        },
        "id": "jVZ1iIrITOTp",
        "outputId": "73772fc6-8e5e-470b-dcd6-ca8401b0d635"
      },
      "execution_count": null,
      "outputs": [
        {
          "output_type": "stream",
          "name": "stdout",
          "text": [
            "a geater\n"
          ]
        }
      ]
    },
    {
      "cell_type": "code",
      "source": [
        "# AND if c is greater than a:\n",
        "a = 2\n",
        "b = 2\n",
        "c = 2\n",
        "if a > b and a > c:\n",
        "  print(\"a is greater\")\n",
        "elif a == b and a == c:\n",
        "  print(\"all are equal\")\n",
        "elif b > a and b >c:\n",
        "  print(\"b is greater\")\n",
        "else:\n",
        "  print(\"else\")"
      ],
      "metadata": {
        "colab": {
          "base_uri": "https://localhost:8080/"
        },
        "id": "jS5SPO7ST9jT",
        "outputId": "ea480b0b-54fd-470c-f33c-0c341be70fb6"
      },
      "execution_count": null,
      "outputs": [
        {
          "output_type": "stream",
          "name": "stdout",
          "text": [
            "all are equal\n"
          ]
        }
      ]
    },
    {
      "cell_type": "code",
      "source": [
        "# AND if c is greater than a:\n",
        "a = 2\n",
        "b = 3\n",
        "c = 2\n",
        "if a > b and a > c:\n",
        "  print(\"a is greater\")\n",
        "elif a == b and a == c:\n",
        "  print(\"all are equal\")\n",
        "elif b > a and b >c:\n",
        "  print(\"b is greater\")\n",
        "else:\n",
        "  print(\"else\")"
      ],
      "metadata": {
        "colab": {
          "base_uri": "https://localhost:8080/"
        },
        "id": "2dOBL3hfUAP8",
        "outputId": "4bf0c286-8995-4c18-d0af-c724cbc0817a"
      },
      "execution_count": null,
      "outputs": [
        {
          "output_type": "stream",
          "name": "stdout",
          "text": [
            "b is greater\n"
          ]
        }
      ]
    },
    {
      "cell_type": "code",
      "source": [
        "# AND if c is greater than a:\n",
        "a = 3\n",
        "b = 2\n",
        "c = 3\n",
        "if a > b and a > c:\n",
        "  print(\"a is greater\")\n",
        "elif a == b and a == c:\n",
        "  print(\"all are equal\")\n",
        "elif b > a and b >c:\n",
        "  print(\"b is greater\")\n",
        "else:\n",
        "  print(\"else\")"
      ],
      "metadata": {
        "colab": {
          "base_uri": "https://localhost:8080/"
        },
        "id": "ll51xdeBUJM3",
        "outputId": "27f93105-aef9-485a-f9c7-de3d83581ce8"
      },
      "execution_count": null,
      "outputs": [
        {
          "output_type": "stream",
          "name": "stdout",
          "text": [
            "else\n"
          ]
        }
      ]
    },
    {
      "cell_type": "code",
      "source": [
        "# Define user ID and password\n",
        "user_id = \"abcd\"\n",
        "password = \"1234\"\n",
        "\n",
        "input_user_id = input(\"Enter user ID: \")\n",
        "input_password = input(\"Enter password: \")\n",
        "\n",
        "# Check if the user ID and password are correct\n",
        "if input_user_id == user_id and input_password == password:\n",
        "\n",
        "    print(\"Access granted. Welcome to the module!\")\n",
        "else:\n",
        "\n",
        "    print(\"Access denied. Incorrect user ID or password.\")"
      ],
      "metadata": {
        "colab": {
          "base_uri": "https://localhost:8080/"
        },
        "id": "kEVpKVx6VuMb",
        "outputId": "c63365b8-d53e-4ac8-99f2-0df8c2db19f8"
      },
      "execution_count": null,
      "outputs": [
        {
          "output_type": "stream",
          "name": "stdout",
          "text": [
            "Enter user ID: abcd\n",
            "Enter password: 1234\n",
            "Access granted. Welcome to the module!\n"
          ]
        }
      ]
    },
    {
      "cell_type": "code",
      "source": [
        "score1 = int(input(\"Enter score1: \"))\n",
        "if score1 > 90:\n",
        "    print(\"Student grade is A\")\n",
        "elif score1 >= 80 and score1 <= 89:\n",
        "    print(\"Student grade is B\")\n",
        "elif score1 >= 70 and score1 <= 79:\n",
        "    print(\"Student grade is C\")\n",
        "elif score1 >= 60 and score1 <= 69:\n",
        "    print(\"Student grade is D\")\n",
        "else:\n",
        "    print(\"Student grade is F\")"
      ],
      "metadata": {
        "colab": {
          "base_uri": "https://localhost:8080/"
        },
        "id": "tdKi6ecAXBNy",
        "outputId": "8eeeb34b-fab4-4e38-fac4-6db21b317cc0"
      },
      "execution_count": null,
      "outputs": [
        {
          "output_type": "stream",
          "name": "stdout",
          "text": [
            "Enter score1: 90\n",
            "Student grade is F\n"
          ]
        }
      ]
    },
    {
      "cell_type": "code",
      "source": [
        "age0 = int(input(\"Enter age: \"))\n",
        "if age0 <= 2:\n",
        "    print(\"Infant\")\n",
        "elif 3 <= age0 <= 12:\n",
        "    print(\"Child\")\n",
        "elif 13 <= age0 <= 19:\n",
        "    print(\"Teenager\")\n",
        "elif 20 <= age0 <= 59:\n",
        "    print(\"Adult\")\n",
        "else:\n",
        "    print(\"Senior Citizen\")"
      ],
      "metadata": {
        "colab": {
          "base_uri": "https://localhost:8080/"
        },
        "id": "yWntxivlXGgO",
        "outputId": "7e525b7a-5936-4e3c-cfa3-af3a5ae9ed77"
      },
      "execution_count": null,
      "outputs": [
        {
          "output_type": "stream",
          "name": "stdout",
          "text": [
            "Enter age: 60\n",
            "Senior Citizen\n"
          ]
        }
      ]
    },
    {
      "cell_type": "code",
      "source": [
        "Weight0 = float(input(\"Enter weight: \"))\n",
        "\n",
        "if Weight0 < 18.5:\n",
        "    print(\"Underweight\")\n",
        "elif 18.5 <= Weight0 <= 24.9:\n",
        "    print(\"Normal weight\")\n",
        "elif 25 <= Weight0 <= 29.9:\n",
        "    print(\"Overweight\")\n",
        "elif 30 <= Weight0 <= 100:\n",
        "    print(\"Obese\")\n",
        "else:\n",
        "    print(\"null\")"
      ],
      "metadata": {
        "colab": {
          "base_uri": "https://localhost:8080/"
        },
        "id": "PjOLzpwpcRGQ",
        "outputId": "e52246e2-980d-4136-be30-90c49aceaa2a"
      },
      "execution_count": null,
      "outputs": [
        {
          "output_type": "stream",
          "name": "stdout",
          "text": [
            "Enter weight: 25.5\n",
            "Overweight\n"
          ]
        }
      ]
    },
    {
      "cell_type": "code",
      "source": [
        "#for\n",
        "for x in range(5):  #start at 0 end before 5 increment by 1\n",
        "    print(x)\n",
        "\n",
        "for x in range(5):  #start at 0 end before 5 increment by 1\n",
        "    print(\"hi\")\n",
        "\n",
        "for x in range(5):  #start at 0 end before 5 increment by 1\n",
        "    a=int(input(\"Enter salary\"))\n",
        "    print(\"salary=\",a)\n",
        "    print(x)\n"
      ],
      "metadata": {
        "colab": {
          "base_uri": "https://localhost:8080/"
        },
        "id": "bvYjV4mObp9W",
        "outputId": "ce965c5b-fcce-4ea2-e6e4-374112d225dd"
      },
      "execution_count": null,
      "outputs": [
        {
          "output_type": "stream",
          "name": "stdout",
          "text": [
            "0\n",
            "1\n",
            "2\n",
            "3\n",
            "4\n",
            "hi\n",
            "hi\n",
            "hi\n",
            "hi\n",
            "hi\n",
            "Enter salary10000\n",
            "salary= 10000\n",
            "0\n",
            "Enter salary10000\n",
            "salary= 10000\n",
            "1\n",
            "Enter salary1000\n",
            "salary= 1000\n",
            "2\n",
            "Enter salary1\n",
            "salary= 1\n",
            "3\n",
            "Enter salary23\n",
            "salary= 23\n",
            "4\n"
          ]
        }
      ]
    },
    {
      "cell_type": "code",
      "source": [
        "# Prints out 3,5\n",
        "for x in range(3, 100, 2):   #start at 3 end before 100 increment by 2\n",
        "    print(x)"
      ],
      "metadata": {
        "colab": {
          "base_uri": "https://localhost:8080/"
        },
        "id": "vs8onKsresiO",
        "outputId": "d6b74dcc-3d9b-4b5d-b372-4426540ca96e"
      },
      "execution_count": null,
      "outputs": [
        {
          "output_type": "stream",
          "name": "stdout",
          "text": [
            "3\n",
            "5\n",
            "7\n",
            "9\n",
            "11\n",
            "13\n",
            "15\n",
            "17\n",
            "19\n",
            "21\n",
            "23\n",
            "25\n",
            "27\n",
            "29\n",
            "31\n",
            "33\n",
            "35\n",
            "37\n",
            "39\n",
            "41\n",
            "43\n",
            "45\n",
            "47\n",
            "49\n",
            "51\n",
            "53\n",
            "55\n",
            "57\n",
            "59\n",
            "61\n",
            "63\n",
            "65\n",
            "67\n",
            "69\n",
            "71\n",
            "73\n",
            "75\n",
            "77\n",
            "79\n",
            "81\n",
            "83\n",
            "85\n",
            "87\n",
            "89\n",
            "91\n",
            "93\n",
            "95\n",
            "97\n",
            "99\n"
          ]
        }
      ]
    },
    {
      "cell_type": "code",
      "source": [
        "def add():\n",
        "   x=2\n",
        "   y=4\n",
        "   c=x+y\n",
        "   print(\"add=\",c)\n",
        "\n",
        "def sub():\n",
        "    x=2\n",
        "    y=4\n",
        "    c1=x-y\n",
        "    print(\"sub=\",c1)\n",
        "\n",
        "z=add()\n",
        "z1=sub()\n",
        "print(z)\n"
      ],
      "metadata": {
        "colab": {
          "base_uri": "https://localhost:8080/"
        },
        "id": "z5nIKT7UfFHO",
        "outputId": "047edaf4-4bee-453b-f051-50076843cc34"
      },
      "execution_count": null,
      "outputs": [
        {
          "output_type": "stream",
          "name": "stdout",
          "text": [
            "add= 6\n",
            "sub= -2\n",
            "None\n"
          ]
        }
      ]
    },
    {
      "cell_type": "code",
      "source": [
        "def add():\n",
        "   x=2\n",
        "   y=4\n",
        "   c=x+y\n",
        "   print(\"add=\",c)\n",
        "\n",
        "def sub():\n",
        "    x=2\n",
        "    y=4\n",
        "    c1=x-y\n",
        "    print(\"sub=\",c1)\n",
        "\n",
        "z=add()"
      ],
      "metadata": {
        "colab": {
          "base_uri": "https://localhost:8080/"
        },
        "id": "Xahzg4I6fHF1",
        "outputId": "96e7a452-988b-446b-b2a7-5877781768b3"
      },
      "execution_count": null,
      "outputs": [
        {
          "output_type": "stream",
          "name": "stdout",
          "text": [
            "add= 6\n"
          ]
        }
      ]
    },
    {
      "cell_type": "code",
      "source": [
        "def add():\n",
        "   x=2\n",
        "   y=4\n",
        "   c=x+y\n",
        "   print(\"add=\",c)\n",
        "   return c\n",
        "def sub():\n",
        "    x=2\n",
        "    y=4\n",
        "    c1=x-y\n",
        "    print(\"sub=\",c1)\n",
        "    return c1\n",
        "z=add()\n",
        "print(z)\n",
        "z1=sub()\n",
        "print(z1)"
      ],
      "metadata": {
        "colab": {
          "base_uri": "https://localhost:8080/"
        },
        "id": "99xmRqA9gVy8",
        "outputId": "d0b4fe5c-f551-4940-9c23-77e715805d61"
      },
      "execution_count": null,
      "outputs": [
        {
          "output_type": "stream",
          "name": "stdout",
          "text": [
            "add= 6\n",
            "6\n",
            "sub= -2\n",
            "-2\n"
          ]
        }
      ]
    },
    {
      "cell_type": "code",
      "source": [
        "# Initialize a variable\n",
        "number = 1\n",
        "\n",
        "while number <= 10:\n",
        "    print(number)\n",
        "    number = number+1"
      ],
      "metadata": {
        "colab": {
          "base_uri": "https://localhost:8080/"
        },
        "id": "DArVFiSXhv-7",
        "outputId": "ad7d5887-8487-489f-b7cf-c9beb229a70d"
      },
      "execution_count": null,
      "outputs": [
        {
          "output_type": "stream",
          "name": "stdout",
          "text": [
            "1\n",
            "2\n",
            "3\n",
            "4\n",
            "5\n",
            "6\n",
            "7\n",
            "8\n",
            "9\n",
            "10\n"
          ]
        }
      ]
    },
    {
      "cell_type": "code",
      "source": [
        "# the test condition is always True\n",
        "age = 21\n",
        "while age > 18:\n",
        "    print('You can vote')\n",
        "    break"
      ],
      "metadata": {
        "colab": {
          "base_uri": "https://localhost:8080/"
        },
        "id": "1kLbTPAyhyyx",
        "outputId": "7b052de0-1d6a-4756-95ea-eb06f9f39d6d"
      },
      "execution_count": null,
      "outputs": [
        {
          "output_type": "stream",
          "name": "stdout",
          "text": [
            "You can vote\n"
          ]
        }
      ]
    },
    {
      "cell_type": "code",
      "source": [
        "age = 12\n",
        "\n",
        "# the test condition is always True\n",
        "while age > 18:\n",
        "    print('You can vote')\n",
        "    break\n",
        "else:\n",
        "   print(\"you are not eligible to vote\")"
      ],
      "metadata": {
        "id": "FPn4N4xih6g6",
        "outputId": "2eda59f1-b2a1-47e4-fcde-6260443bec30",
        "colab": {
          "base_uri": "https://localhost:8080/"
        }
      },
      "execution_count": null,
      "outputs": [
        {
          "output_type": "stream",
          "name": "stdout",
          "text": [
            "you are not eligible to vote\n"
          ]
        }
      ]
    }
  ]
}